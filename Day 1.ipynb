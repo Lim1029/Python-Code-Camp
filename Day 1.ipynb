{
 "cells": [
  {
   "attachments": {},
   "cell_type": "markdown",
   "metadata": {},
   "source": [
    "Session 1: Introduction to Python"
   ]
  },
  {
   "attachments": {},
   "cell_type": "markdown",
   "metadata": {},
   "source": [
    "Discussions:\n",
    "\n",
    "1) Python(.py) vs Jupyter Notebook(.ipynb) \n",
    "2) VS Code (local) vs Google Colab (cloud) \n",
    "3) Python in Physics"
   ]
  },
  {
   "attachments": {},
   "cell_type": "markdown",
   "metadata": {},
   "source": [
    "Exercise: The average temperature of New York is 55 degrees Fahrenheit. What is the average temperature in Celsius and Kelvin?"
   ]
  },
  {
   "cell_type": "code",
   "execution_count": 1,
   "metadata": {},
   "outputs": [
    {
     "name": "stdout",
     "output_type": "stream",
     "text": [
      "The temperature in celcius is:  12.777777777777779\n",
      "The temperature in kelvin is:  285.92777777777775\n"
     ]
    }
   ],
   "source": [
    "# convert farenheit to celcius and kelvin\n",
    "farenheit = 55\n",
    "celcius = (farenheit - 32) * 5/9\n",
    "kelvin = celcius + 273.15\n",
    "print(\"The temperature in celcius is: \", celcius)\n",
    "print(\"The temperature in kelvin is: \", kelvin)"
   ]
  },
  {
   "attachments": {},
   "cell_type": "markdown",
   "metadata": {},
   "source": [
    "Session 2: Basics of Python - Introduction to variables, data types, operators, and basic functions."
   ]
  },
  {
   "cell_type": "code",
   "execution_count": 2,
   "metadata": {},
   "outputs": [],
   "source": [
    "# Variables\n",
    "an_integer = 5\n",
    "a_float = 5.0\n",
    "a_string = \"5\"\n",
    "a_boolean = True\n",
    "an_array = [1, 2, 3, 4, 5]"
   ]
  },
  {
   "cell_type": "code",
   "execution_count": null,
   "metadata": {},
   "outputs": [],
   "source": [
    "# operators\n",
    "# + - * / % **\n",
    "# > < >= <= == !=\n",
    "# and or not"
   ]
  },
  {
   "attachments": {},
   "cell_type": "markdown",
   "metadata": {},
   "source": [
    "Session 3: Control Structures - Introduction to if statements, loops, and logical operators."
   ]
  },
  {
   "attachments": {},
   "cell_type": "markdown",
   "metadata": {},
   "source": [
    "In astronomy, we would want to know which region in EM spectrum a light is situated (blue, radio, infrared etc), given frequency or wavelength. Let's use conditions to find out."
   ]
  },
  {
   "cell_type": "code",
   "execution_count": 6,
   "metadata": {},
   "outputs": [
    {
     "name": "stdout",
     "output_type": "stream",
     "text": [
      "Visible Light\n"
     ]
    }
   ],
   "source": [
    "input = 6.5 * 10 **14\n",
    "is_frequency = True\n",
    "\n",
    "# convert to wavelength if frequency is given\n",
    "if (is_frequency):\n",
    "    input = 3 * 10 **8 / input\n",
    "\n",
    "# set conditions based on http://labman.phys.utk.edu/phys222core/modules/m6/The%20EM%20spectrum.html\n",
    "if (input > 1*10**(-3)):\n",
    "    output = \"Radiowave\"\n",
    "elif (input < 1*10**(-3) and input > 25*10**(-6)):\n",
    "    output = \"Microwave\"\n",
    "elif (input < 25*10**(-6) and input > 2.5*10**(-6)):\n",
    "    output = \"Infrared\"\n",
    "elif (input < 2.5*10**(-6) and input > 750*10**(-9)):\n",
    "    output = \"Near Infrared\"\n",
    "elif (input < 750*10**(-9) and input > 400*10**(-9)):\n",
    "    output = \"Visible Light\"\n",
    "elif (input < 400*10**(-9) and input > 1*10**(-9)):\n",
    "    output = \"Ultraviolet\"\n",
    "elif (input < 1*10**(-9) and input > 1*10**(-12)):\n",
    "    output = \"X-rays\"\n",
    "else:\n",
    "    output = \"Gamma rays\"\n",
    "\n",
    "print(output)"
   ]
  },
  {
   "attachments": {},
   "cell_type": "markdown",
   "metadata": {},
   "source": [
    "With the code, you can easily determine the region of EM spectrum a light is situated in, for the following values of frequency and wavelength:\n",
    "\n",
    "1) JWST observing frequency: 6.2 GHz\n",
    "2) Hubble observing wavelength: 0.55 microns\n",
    "3) Peak frequency of the sun: 6.5 x 10^14 Hz"
   ]
  },
  {
   "attachments": {},
   "cell_type": "markdown",
   "metadata": {},
   "source": [
    "Session 4: NumPy - Introduction to NumPy for scientific computing, including creating arrays, indexing, and basic mathematical operations."
   ]
  },
  {
   "cell_type": "code",
   "execution_count": 8,
   "metadata": {},
   "outputs": [],
   "source": [
    "import numpy as np"
   ]
  },
  {
   "attachments": {},
   "cell_type": "markdown",
   "metadata": {},
   "source": [
    "Session 5: Plotting - Introduction to Matplotlib for plotting data, including basic line plots and scatter plots."
   ]
  },
  {
   "attachments": {},
   "cell_type": "markdown",
   "metadata": {},
   "source": [
    "Exercise: One of the starting point of astronomy is UV catastrophe. Let's plot the original and planck equations together to see how they differ."
   ]
  },
  {
   "cell_type": "code",
   "execution_count": 22,
   "metadata": {},
   "outputs": [],
   "source": [
    "# we can make use of constants from scipy\n",
    "from scipy.constants import c, h, k as k_B\n",
    "T = 5000 # temperature in Kelvin\n",
    "\n",
    "def rayleigh_jeans(v):\n",
    "    return 2*v**2*k_B*T/(c**2)\n",
    "def planck(v):\n",
    "    return 2*h*v**3/c**2/(np.exp(h*v/(k_B*T))-1)"
   ]
  },
  {
   "cell_type": "code",
   "execution_count": 26,
   "metadata": {},
   "outputs": [
    {
     "name": "stderr",
     "output_type": "stream",
     "text": [
      "/tmp/ipykernel_17643/3475029302.py:8: RuntimeWarning: invalid value encountered in divide\n",
      "  return 2*h*v**3/c**2/(np.exp(h*v/(k_B*T))-1)\n"
     ]
    }
   ],
   "source": [
    "x = np.linspace(0, 10000000, 1000)\n",
    "y_rj = rayleigh_jeans(x)\n",
    "y_p = planck(x)"
   ]
  },
  {
   "cell_type": "code",
   "execution_count": 27,
   "metadata": {},
   "outputs": [
    {
     "data": {
      "text/plain": [
       "[<matplotlib.lines.Line2D at 0x7fdabd49dcf0>]"
      ]
     },
     "execution_count": 27,
     "metadata": {},
     "output_type": "execute_result"
    },
    {
     "data": {
      "image/png": "[encoded data removed]",
      "text/plain": [
       "<Figure size 640x480 with 1 Axes>"
      ]
     },
     "metadata": {},
     "output_type": "display_data"
    }
   ],
   "source": [
    "import matplotlib.pyplot as plt\n",
    "plt.plot(x, y_rj, label=\"Rayleigh-Jeans\")\n",
    "plt.plot(x, y_p, label=\"Planck\")"
   ]
  },
  {
   "cell_type": "markdown",
   "metadata": {},
   "source": []
  },
  {
   "attachments": {},
   "cell_type": "markdown",
   "metadata": {},
   "source": [
    "Day 1 Project: Neutrino Count Rate"
   ]
  },
  {
   "attachments": {},
   "cell_type": "markdown",
   "metadata": {},
   "source": [
    "Task 1: Run the experiment and store cumulative count for every minute."
   ]
  },
  {
   "cell_type": "code",
   "execution_count": 11,
   "metadata": {},
   "outputs": [
    {
     "data": {
      "text/plain": [
       "array([ 2.,  3.,  5.,  6., 78.,  9., 10.])"
      ]
     },
     "execution_count": 11,
     "metadata": {},
     "output_type": "execute_result"
    }
   ],
   "source": [
    "cumulative_count = np.loadtxt(\"data_logging.dat\")"
   ]
  },
  {
   "attachments": {},
   "cell_type": "markdown",
   "metadata": {},
   "source": [
    "Task 2: calculate the count per minute."
   ]
  },
  {
   "cell_type": "code",
   "execution_count": null,
   "metadata": {},
   "outputs": [],
   "source": [
    "# calculate count per minute from cumulative count\n",
    "for i in range(1, len(cumulative_count)):\n",
    "    count_per_minute = cumulative_count[i] - cumulative_count[i-1]\n",
    "    print(count_per_minute)"
   ]
  },
  {
   "attachments": {},
   "cell_type": "markdown",
   "metadata": {},
   "source": [
    "Task 3: Is there a function we can fit to the data? If so, what is it?"
   ]
  },
  {
   "attachments": {},
   "cell_type": "markdown",
   "metadata": {},
   "source": []
  }
 ],
 "metadata": {
  "kernelspec": {
   "display_name": "Python 3",
   "language": "python",
   "name": "python3"
  },
  "language_info": {
   "codemirror_mode": {
    "name": "ipython",
    "version": 3
   },
   "file_extension": ".py",
   "mimetype": "text/x-python",
   "name": "python",
   "nbconvert_exporter": "python",
   "pygments_lexer": "ipython3",
   "version": "3.10.6"
  },
  "orig_nbformat": 4
 },
 "nbformat": 4,
 "nbformat_minor": 2
}
