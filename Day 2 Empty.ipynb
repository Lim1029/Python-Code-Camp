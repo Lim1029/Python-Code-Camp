{
 "cells": [
  {
   "attachments": {},
   "cell_type": "markdown",
   "metadata": {},
   "source": [
    "Day 2"
   ]
  },
  {
   "attachments": {},
   "cell_type": "markdown",
   "metadata": {},
   "source": [
    "Session 1: Pandas - Introduction to Pandas for data analysis, including reading and manipulating data frames, selecting data, and basic data exploration."
   ]
  },
  {
   "attachments": {},
   "cell_type": "markdown",
   "metadata": {},
   "source": [
    "Session 2: Functions - Introduction to functions in Python, including how to define and call functions, function arguments, and variable scope."
   ]
  },
  {
   "attachments": {},
   "cell_type": "markdown",
   "metadata": {},
   "source": [
    "Session 3: Numerical Methods - Introduction to numerical methods in Python, including solving differential equations using ODEINT and integrating functions using quad."
   ]
  },
  {
   "attachments": {},
   "cell_type": "markdown",
   "metadata": {},
   "source": [
    "Exercise: \n",
    "\n",
    "The following two equations seem similar, but equation 1 can be solved (for r) analytically (try it out!), but not equation 2! \n",
    "\n",
    "$$10 = 5\\log{\\frac{r}{10}}$$\n",
    "$$10 = 5\\log{\\frac{r}{10}}+0.002r$$\n",
    "\n",
    "We will use numerical methods to solve equation 2, more specifically, the iterative method."
   ]
  },
  {
   "cell_type": "code",
   "execution_count": 13,
   "metadata": {},
   "outputs": [],
   "source": []
  },
  {
   "attachments": {},
   "cell_type": "markdown",
   "metadata": {},
   "source": [
    "Rewrite the equation in the form of (try derive):\n",
    "$$r=10×10^{2-0.0004r}$$\n",
    "Then use 1000 as the initial value, run a 100 iteration"
   ]
  },
  {
   "cell_type": "code",
   "execution_count": 19,
   "metadata": {},
   "outputs": [
    {
     "name": "stdout",
     "output_type": "stream",
     "text": [
      "398.1071705534973\n",
      "693.0381335543425\n",
      "528.1833984276446\n",
      "614.7897817911412\n",
      "567.654502969976\n",
      "592.8409558305243\n",
      "579.2467658853818\n",
      "586.5449414464675\n",
      "582.6154851536324\n",
      "584.727885812272\n",
      "583.5913493623659\n",
      "584.2025660759019\n",
      "583.8737809787382\n",
      "584.0506177335104\n",
      "583.9554995961669\n",
      "584.006660451167\n",
      "583.9791421865931\n",
      "583.9939434763743\n",
      "583.985982238063\n",
      "583.9902643727103\n",
      "583.9879611244608\n",
      "583.9891999803356\n",
      "583.9885336324371\n",
      "583.9888920433015\n",
      "583.9886992635745\n",
      "583.9888029546842\n",
      "583.9887471819801\n",
      "583.9887771806413\n",
      "583.9887610451552\n",
      "583.9887697240059\n",
      "583.988765055882\n",
      "583.9887675667421\n",
      "583.9887662162171\n",
      "583.9887669426289\n",
      "583.988766551911\n",
      "583.9887667620678\n",
      "583.98876664903\n",
      "583.9887667098301\n",
      "583.9887666771273\n",
      "583.9887666947175\n",
      "583.9887666852561\n",
      "583.9887666903451\n",
      "583.9887666876077\n",
      "583.9887666890803\n",
      "583.9887666882881\n",
      "583.9887666887142\n",
      "583.9887666884849\n",
      "583.9887666886085\n",
      "583.9887666885419\n",
      "583.9887666885778\n",
      "583.9887666885584\n",
      "583.9887666885688\n",
      "583.9887666885631\n",
      "583.9887666885661\n",
      "583.9887666885646\n",
      "583.9887666885655\n",
      "583.988766688565\n",
      "583.9887666885652\n",
      "583.9887666885652\n",
      "583.9887666885652\n",
      "583.9887666885652\n",
      "583.9887666885652\n",
      "583.9887666885652\n",
      "583.9887666885652\n",
      "583.9887666885652\n",
      "583.9887666885652\n",
      "583.9887666885652\n",
      "583.9887666885652\n",
      "583.9887666885652\n",
      "583.9887666885652\n",
      "583.9887666885652\n",
      "583.9887666885652\n",
      "583.9887666885652\n",
      "583.9887666885652\n",
      "583.9887666885652\n",
      "583.9887666885652\n",
      "583.9887666885652\n",
      "583.9887666885652\n",
      "583.9887666885652\n",
      "583.9887666885652\n",
      "583.9887666885652\n",
      "583.9887666885652\n",
      "583.9887666885652\n",
      "583.9887666885652\n",
      "583.9887666885652\n",
      "583.9887666885652\n",
      "583.9887666885652\n",
      "583.9887666885652\n",
      "583.9887666885652\n",
      "583.9887666885652\n",
      "583.9887666885652\n",
      "583.9887666885652\n",
      "583.9887666885652\n",
      "583.9887666885652\n",
      "583.9887666885652\n",
      "583.9887666885652\n",
      "583.9887666885652\n",
      "583.9887666885652\n",
      "583.9887666885652\n",
      "583.9887666885652\n"
     ]
    }
   ],
   "source": []
  },
  {
   "attachments": {},
   "cell_type": "markdown",
   "metadata": {},
   "source": [
    "Exercise 2: \n",
    "\n",
    "Let's use the numerical method to estimate the value of $\\pi$.\n",
    "https://medium.com/the-modern-scientist/estimating-pi-using-monte-carlo-methods-dbdf26c888d6#:~:text=Multiply%20the%20ratio%20by%204%20to%20estimate%20the,circle%2C%20we%20can%20estimate%20the%20value%20of%20pi."
   ]
  },
  {
   "cell_type": "code",
   "execution_count": 20,
   "metadata": {},
   "outputs": [
    {
     "data": {
      "text/html": [
       "<img src=\"https://demonstrations.wolfram.com/ApproximatingPiByTheMonteCarloMethod/img/popup_2.png\"/>"
      ],
      "text/plain": [
       "<IPython.core.display.Image object>"
      ]
     },
     "execution_count": 20,
     "metadata": {},
     "output_type": "execute_result"
    }
   ],
   "source": [
    "# display image \n",
    "from IPython.display import Image\n",
    "Image(url='https://demonstrations.wolfram.com/ApproximatingPiByTheMonteCarloMethod/img/popup_2.png')"
   ]
  },
  {
   "cell_type": "code",
   "execution_count": 23,
   "metadata": {},
   "outputs": [
    {
     "name": "stdout",
     "output_type": "stream",
     "text": [
      "3.36\n"
     ]
    }
   ],
   "source": []
  },
  {
   "attachments": {},
   "cell_type": "markdown",
   "metadata": {},
   "source": [
    "Session 4: Advanced Plotting - Introduction to advanced plotting techniques in Matplotlib, including customizing plot appearance, using subplots, and adding annotations."
   ]
  },
  {
   "attachments": {},
   "cell_type": "markdown",
   "metadata": {},
   "source": [
    "Exercise: Let's plot HR Diagram"
   ]
  },
  {
   "attachments": {},
   "cell_type": "markdown",
   "metadata": {},
   "source": [
    "Below shows an example of HR diagram, We are going to plot HR diagram for the star in the data file."
   ]
  },
  {
   "cell_type": "code",
   "execution_count": 4,
   "metadata": {},
   "outputs": [
    {
     "data": {
      "text/html": [
       "<img src=\"https://th.bing.com/th/id/OIP.3qotG8XM8xOk5zZNTlbuTgHaHY?pid=ImgDet&rs=1\"/>"
      ],
      "text/plain": [
       "<IPython.core.display.Image object>"
      ]
     },
     "execution_count": 4,
     "metadata": {},
     "output_type": "execute_result"
    }
   ],
   "source": [
    "# display image \n",
    "from IPython.display import Image\n",
    "Image(url='https://th.bing.com/th/id/OIP.3qotG8XM8xOk5zZNTlbuTgHaHY?pid=ImgDet&rs=1')"
   ]
  },
  {
   "attachments": {},
   "cell_type": "markdown",
   "metadata": {},
   "source": [
    "Session 5:Conclusion and Next Steps - Review of what has been covered, and discussion of further resources and applications of Python in physics."
   ]
  },
  {
   "cell_type": "code",
   "execution_count": null,
   "metadata": {},
   "outputs": [],
   "source": []
  }
 ],
 "metadata": {
  "kernelspec": {
   "display_name": "Python 3",
   "language": "python",
   "name": "python3"
  },
  "language_info": {
   "codemirror_mode": {
    "name": "ipython",
    "version": 3
   },
   "file_extension": ".py",
   "mimetype": "text/x-python",
   "name": "python",
   "nbconvert_exporter": "python",
   "pygments_lexer": "ipython3",
   "version": "3.10.6"
  },
  "orig_nbformat": 4
 },
 "nbformat": 4,
 "nbformat_minor": 2
}
