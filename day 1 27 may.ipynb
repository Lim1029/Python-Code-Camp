{
 "cells": [
  {
   "cell_type": "code",
   "execution_count": 3,
   "metadata": {},
   "outputs": [
    {
     "name": "stdout",
     "output_type": "stream",
     "text": [
      "we will take 9 - 930am to set up and get ready\n",
      "for vs code\n",
      "\n",
      "\n",
      "please get helpers for assistance\n"
     ]
    }
   ],
   "source": [
    "print('we will take 9 - 930am to set up and get ready')\n",
    "print('for vs code')\n",
    "print('\\n')\n",
    "print('please get helpers for assistance')"
   ]
  },
  {
   "cell_type": "code",
   "execution_count": 6,
   "metadata": {},
   "outputs": [
    {
     "name": "stdout",
     "output_type": "stream",
     "text": [
      "Ming Kang\n"
     ]
    }
   ],
   "source": [
    "print('Ming Kang')"
   ]
  },
  {
   "cell_type": "code",
   "execution_count": 2,
   "metadata": {},
   "outputs": [
    {
     "name": "stdout",
     "output_type": "stream",
     "text": [
      "Welcome to PERFUM Python Code Camp, Day 2\n",
      "We shall start at 9:15am\n"
     ]
    }
   ],
   "source": [
    "print('Welcome to PERFUM Python Code Camp, Day 2')\n",
    "print('We shall start at 9:15am')"
   ]
  },
  {
   "cell_type": "code",
   "execution_count": 8,
   "metadata": {},
   "outputs": [
    {
     "name": "stdout",
     "output_type": "stream",
     "text": [
      "PERFUM = Persatuan Fizik UM\n"
     ]
    }
   ],
   "source": [
    "print('PERFUM = Persatuan Fizik UM')"
   ]
  },
  {
   "cell_type": "markdown",
   "metadata": {},
   "source": []
  },
  {
   "cell_type": "code",
   "execution_count": 15,
   "metadata": {},
   "outputs": [
    {
     "name": "stdout",
     "output_type": "stream",
     "text": [
      "Ming Kang \n",
      " Ayyash \n",
      " ALif Aiman\n"
     ]
    }
   ],
   "source": [
    "print('Ming Kang',\"Ayyash\",\"Alif Aiman\",sep=' \\n ')"
   ]
  },
  {
   "cell_type": "code",
   "execution_count": 16,
   "metadata": {},
   "outputs": [
    {
     "name": "stdout",
     "output_type": "stream",
     "text": [
      "this is the first line\n",
      "this is the second line\n"
     ]
    }
   ],
   "source": [
    "print('this is the first line','this is the second line',sep='\\n')"
   ]
  },
  {
   "cell_type": "code",
   "execution_count": 17,
   "metadata": {},
   "outputs": [
    {
     "name": "stdout",
     "output_type": "stream",
     "text": [
      "5+7\n"
     ]
    }
   ],
   "source": [
    "print('5+7')"
   ]
  },
  {
   "cell_type": "code",
   "execution_count": 18,
   "metadata": {},
   "outputs": [
    {
     "name": "stdout",
     "output_type": "stream",
     "text": [
      "12\n"
     ]
    }
   ],
   "source": [
    "print(5+7)"
   ]
  },
  {
   "cell_type": "code",
   "execution_count": 19,
   "metadata": {},
   "outputs": [
    {
     "name": "stdout",
     "output_type": "stream",
     "text": [
      "3.142\n"
     ]
    }
   ],
   "source": [
    "print(3.142)"
   ]
  },
  {
   "cell_type": "code",
   "execution_count": 20,
   "metadata": {},
   "outputs": [
    {
     "name": "stdout",
     "output_type": "stream",
     "text": [
      "True\n"
     ]
    }
   ],
   "source": [
    "print(True)"
   ]
  },
  {
   "cell_type": "code",
   "execution_count": 21,
   "metadata": {},
   "outputs": [
    {
     "name": "stdout",
     "output_type": "stream",
     "text": [
      "False\n"
     ]
    }
   ],
   "source": [
    "print(False)"
   ]
  },
  {
   "cell_type": "code",
   "execution_count": 26,
   "metadata": {},
   "outputs": [
    {
     "name": "stdout",
     "output_type": "stream",
     "text": [
      "the value of pi is 3\n"
     ]
    }
   ],
   "source": [
    "print(\"the value of pi is\",int(3.142))"
   ]
  },
  {
   "cell_type": "code",
   "execution_count": 29,
   "metadata": {},
   "outputs": [
    {
     "name": "stdout",
     "output_type": "stream",
     "text": [
      "16\n"
     ]
    }
   ],
   "source": [
    "print(str(4*4))"
   ]
  },
  {
   "cell_type": "code",
   "execution_count": 40,
   "metadata": {},
   "outputs": [
    {
     "name": "stdout",
     "output_type": "stream",
     "text": [
      "the temperature in kelvin is:  285.93 K\n"
     ]
    }
   ],
   "source": [
    "fahrenheit = 55\n",
    "\n",
    "celsius = (fahrenheit - 32) * (5/9)\n",
    "kelvin = celsius + 273.15\n",
    "\n",
    "kelvin_round = round(kelvin, 2)\n",
    "\n",
    "print('the temperature in kelvin is: ',kelvin_round,'K')\n",
    "# print('celsius: ',celsius, 'degree C')"
   ]
  },
  {
   "cell_type": "code",
   "execution_count": 36,
   "metadata": {},
   "outputs": [
    {
     "name": "stdout",
     "output_type": "stream",
     "text": [
      "the temperature in kelvin is:  285.92777777777775 K\n"
     ]
    }
   ],
   "source": [
    "kelvin = celsius + 273.15\n",
    "\n",
    "print('the temperature in kelvin is: ',kelvin,'K')"
   ]
  },
  {
   "cell_type": "code",
   "execution_count": 43,
   "metadata": {},
   "outputs": [
    {
     "name": "stdout",
     "output_type": "stream",
     "text": [
      "408 -1376\n",
      "13872.0 22016.0\n"
     ]
    }
   ],
   "source": [
    "m1 = 6 # this is the mass of m1 in kg\n",
    "m2 = 43 # in kg\n",
    "v1 = 68 # in m/s\n",
    "v2 = -32 # in m/s\n",
    "\n",
    "p1 = m1 * v1 # this is the momentum\n",
    "p2 = m2 * v2 # kg m/s\n",
    "\n",
    "print(p1,p2)\n",
    "\n",
    "k1 = 1/2 * m1 * v1 * v1\n",
    "k2 = 1/2 * m2 * v2 ** 2\n",
    "\n",
    "print(k1,k2)"
   ]
  },
  {
   "cell_type": "code",
   "execution_count": 44,
   "metadata": {},
   "outputs": [
    {
     "name": "stdout",
     "output_type": "stream",
     "text": [
      "False\n"
     ]
    }
   ],
   "source": [
    "is_conserved = (p1+p2 == 0)\n",
    "print(is_conserved)"
   ]
  },
  {
   "cell_type": "code",
   "execution_count": 46,
   "metadata": {},
   "outputs": [
    {
     "name": "stdout",
     "output_type": "stream",
     "text": [
      "True\n"
     ]
    }
   ],
   "source": [
    "print(5>=5)"
   ]
  },
  {
   "cell_type": "code",
   "execution_count": 47,
   "metadata": {},
   "outputs": [],
   "source": [
    "is_hot = True\n",
    "is_hungry = True\n",
    "is_PPCC_good = True"
   ]
  },
  {
   "cell_type": "code",
   "execution_count": 52,
   "metadata": {},
   "outputs": [
    {
     "name": "stdout",
     "output_type": "stream",
     "text": [
      "good morning dr!\n",
      "can we end early?\n"
     ]
    }
   ],
   "source": [
    "is_8am_class = False\n",
    "\n",
    "if (is_8am_class == True):\n",
    "    print('absent with reason')\n",
    "    print('sorry dr')\n",
    "    print('my friend mark my attendance')\n",
    "else:\n",
    "    print('good morning dr!')\n",
    "    print('can we end early?')"
   ]
  },
  {
   "cell_type": "code",
   "execution_count": 58,
   "metadata": {},
   "outputs": [
    {
     "name": "stdout",
     "output_type": "stream",
     "text": [
      "123456789098765432123456782  is an  Even number\n"
     ]
    }
   ],
   "source": [
    "number = 123456789098765432123456782\n",
    "remainder = number%2\n",
    "\n",
    "if (remainder == 1):\n",
    "    print(number,\" is an \",'Odd number')\n",
    "else:\n",
    "    print(number,\" is an \",'Even number')"
   ]
  },
  {
   "cell_type": "code",
   "execution_count": 60,
   "metadata": {},
   "outputs": [
    {
     "name": "stdout",
     "output_type": "stream",
     "text": [
      "0\n",
      "1\n",
      "2\n",
      "3\n",
      "4\n"
     ]
    }
   ],
   "source": [
    "for val in range(5):\n",
    "    print(val)"
   ]
  },
  {
   "cell_type": "code",
   "execution_count": 61,
   "metadata": {},
   "outputs": [
    {
     "name": "stdout",
     "output_type": "stream",
     "text": [
      "3\n",
      "5\n",
      "7\n",
      "9\n"
     ]
    }
   ],
   "source": [
    "for number in range(3,10,2):\n",
    "    print(number)"
   ]
  },
  {
   "cell_type": "code",
   "execution_count": 63,
   "metadata": {},
   "outputs": [
    {
     "name": "stdout",
     "output_type": "stream",
     "text": [
      "320\n",
      "400\n",
      "480\n",
      "560\n"
     ]
    }
   ],
   "source": [
    "for number in range(3,10,2): # (start, ends, step)\n",
    "    new_number = (number + 10 - 5) *40\n",
    "    print(new_number)"
   ]
  },
  {
   "cell_type": "code",
   "execution_count": 81,
   "metadata": {},
   "outputs": [
    {
     "name": "stdout",
     "output_type": "stream",
     "text": [
      "is it a prime number:  False\n"
     ]
    }
   ],
   "source": [
    "is_prime = True\n",
    "number = 1\n",
    "\n",
    "if (number == 1):\n",
    "    is_prime = False\n",
    "\n",
    "for i in range(2,number,1):\n",
    "    print(i)\n",
    "    remainder = number%i\n",
    "    if (remainder == 0): # means no remainder, number divisible by i\n",
    "        is_prime = False\n",
    "        print('factor ',i)\n",
    "\n",
    "print(\"is it a prime number: \", is_prime)"
   ]
  },
  {
   "attachments": {},
   "cell_type": "markdown",
   "metadata": {},
   "source": [
    "Exercise: Print all the factors of a given number\n",
    "\n",
    "hint: use % to check if a number is divisible by another number"
   ]
  },
  {
   "cell_type": "code",
   "execution_count": 82,
   "metadata": {},
   "outputs": [
    {
     "name": "stdout",
     "output_type": "stream",
     "text": [
      "factor of  45 is 1\n",
      "factor of  45 is 3\n",
      "factor of  45 is 5\n",
      "factor of  45 is 9\n",
      "factor of  45 is 15\n",
      "factor of  45 is 45\n"
     ]
    }
   ],
   "source": [
    "number = 45\n",
    "for i in range(1,number+1,1):\n",
    "    remainder = number%i\n",
    "    if (remainder == 0):\n",
    "        print(\"factor of \",number,\"is\",i)"
   ]
  },
  {
   "cell_type": "code",
   "execution_count": 83,
   "metadata": {},
   "outputs": [
    {
     "name": "stdout",
     "output_type": "stream",
     "text": [
      "Defaulting to user installation because normal site-packages is not writeable\n",
      "Requirement already satisfied: numpy in /home/mingkang/.local/lib/python3.10/site-packages (1.24.2)\n"
     ]
    }
   ],
   "source": [
    "!pip install numpy"
   ]
  },
  {
   "cell_type": "code",
   "execution_count": 84,
   "metadata": {},
   "outputs": [
    {
     "name": "stdout",
     "output_type": "stream",
     "text": [
      "Defaulting to user installation because normal site-packages is not writeable\n",
      "Requirement already satisfied: numpy in /home/mingkang/.local/lib/python3.10/site-packages (1.24.2)\n",
      "Note: you may need to restart the kernel to use updated packages.\n"
     ]
    }
   ],
   "source": [
    "pip install numpy"
   ]
  },
  {
   "attachments": {},
   "cell_type": "markdown",
   "metadata": {},
   "source": [
    "Check if your installation is correct by running the following cell:"
   ]
  },
  {
   "cell_type": "code",
   "execution_count": 85,
   "metadata": {},
   "outputs": [],
   "source": [
    "import numpy\n",
    "import matplotlib\n",
    "import scipy"
   ]
  },
  {
   "cell_type": "code",
   "execution_count": 92,
   "metadata": {},
   "outputs": [
    {
     "name": "stdout",
     "output_type": "stream",
     "text": [
      "1\n",
      "1\n",
      "2\n",
      "3\n",
      "5\n",
      "8\n",
      "13\n",
      "21\n",
      "34\n",
      "55\n",
      "89\n",
      "144\n",
      "233\n",
      "377\n",
      "610\n",
      "987\n",
      "1597\n",
      "2584\n",
      "4181\n",
      "6765\n",
      "10946\n",
      "17711\n",
      "28657\n",
      "46368\n",
      "75025\n",
      "121393\n",
      "196418\n",
      "317811\n",
      "514229\n",
      "832040\n",
      "1346269\n",
      "2178309\n",
      "3524578\n",
      "5702887\n",
      "9227465\n",
      "14930352\n",
      "24157817\n",
      "39088169\n",
      "63245986\n",
      "102334155\n",
      "165580141\n",
      "267914296\n",
      "433494437\n",
      "701408733\n",
      "1134903170\n",
      "1836311903\n",
      "2971215073\n",
      "4807526976\n",
      "7778742049\n",
      "12586269025\n",
      "20365011074\n",
      "32951280099\n",
      "53316291173\n",
      "86267571272\n",
      "139583862445\n",
      "225851433717\n",
      "365435296162\n",
      "591286729879\n",
      "956722026041\n",
      "1548008755920\n",
      "2504730781961\n",
      "4052739537881\n",
      "6557470319842\n",
      "10610209857723\n",
      "17167680177565\n",
      "27777890035288\n",
      "44945570212853\n",
      "72723460248141\n",
      "117669030460994\n",
      "190392490709135\n",
      "308061521170129\n",
      "498454011879264\n",
      "806515533049393\n",
      "1304969544928657\n",
      "2111485077978050\n",
      "3416454622906707\n",
      "5527939700884757\n",
      "8944394323791464\n",
      "14472334024676221\n",
      "23416728348467685\n",
      "37889062373143906\n",
      "61305790721611591\n",
      "99194853094755497\n",
      "160500643816367088\n",
      "259695496911122585\n",
      "420196140727489673\n",
      "679891637638612258\n",
      "1100087778366101931\n",
      "1779979416004714189\n",
      "2880067194370816120\n",
      "4660046610375530309\n",
      "7540113804746346429\n",
      "12200160415121876738\n",
      "19740274219868223167\n",
      "31940434634990099905\n",
      "51680708854858323072\n",
      "83621143489848422977\n",
      "135301852344706746049\n",
      "218922995834555169026\n",
      "354224848179261915075\n",
      "573147844013817084101\n",
      "927372692193078999176\n",
      "1500520536206896083277\n",
      "2427893228399975082453\n",
      "3928413764606871165730\n"
     ]
    }
   ],
   "source": [
    "# Complete code to print fibonacci number\n",
    "print(1) # print first fibonaci number\n",
    "print(1) # print second fibonaci number\n",
    "\n",
    "a = 1 # first previous number\n",
    "b = 1 # 2nd previous number\n",
    "\n",
    "print(a+b)\n",
    "\n",
    "for i in range (10000): #repeat the code for 10000 times\n",
    "    new_a = b # assign new previous number\n",
    "    new_b = a+b # assign new previous number\n",
    "\n",
    "    a = new_a # recycle the bucket (variable) a\n",
    "    b = new_b # recycle the bucket (variable) b\n",
    "\n",
    "    print(a+b) # print the next number in the sequence\n"
   ]
  },
  {
   "cell_type": "code",
   "execution_count": 94,
   "metadata": {},
   "outputs": [
    {
     "name": "stdout",
     "output_type": "stream",
     "text": [
      "Break until 2:30 for lunch, rest and prayers\n"
     ]
    }
   ],
   "source": [
    "print(\"Break until 2:30 for lunch, rest and prayers\")"
   ]
  },
  {
   "cell_type": "code",
   "execution_count": 95,
   "metadata": {},
   "outputs": [
    {
     "name": "stdout",
     "output_type": "stream",
     "text": [
      "We will be learning to plot a graph later\n"
     ]
    }
   ],
   "source": [
    "print('We will be learning to plot a graph later')"
   ]
  },
  {
   "cell_type": "code",
   "execution_count": 96,
   "metadata": {},
   "outputs": [
    {
     "name": "stdout",
     "output_type": "stream",
     "text": [
      "[3.98, 3.89, 3.23, 3.69, 3.68]\n"
     ]
    }
   ],
   "source": [
    "my_cpga = [3.98,3.89,3.23,3.69,3.68] # create my list\n",
    "print(my_cpga)"
   ]
  },
  {
   "cell_type": "code",
   "execution_count": 98,
   "metadata": {},
   "outputs": [
    {
     "name": "stdout",
     "output_type": "stream",
     "text": [
      "3.98\n"
     ]
    }
   ],
   "source": [
    "cgpa_sem1 = my_cpga[0] # accessing element 0\n",
    "print(cgpa_sem1)"
   ]
  },
  {
   "cell_type": "code",
   "execution_count": 99,
   "metadata": {},
   "outputs": [
    {
     "name": "stdout",
     "output_type": "stream",
     "text": [
      "3.23\n"
     ]
    }
   ],
   "source": [
    "cpga_worst = my_cpga[2] # accesing element 2\n",
    "print(cpga_worst)"
   ]
  },
  {
   "cell_type": "code",
   "execution_count": 100,
   "metadata": {},
   "outputs": [
    {
     "name": "stdout",
     "output_type": "stream",
     "text": [
      "[3.98, 3.89, 3.23, 3.69, 3.68, 3.52]\n"
     ]
    }
   ],
   "source": [
    "my_cpga.append(3.52) # to add element into the list\n",
    "\n",
    "print(my_cpga)"
   ]
  },
  {
   "cell_type": "code",
   "execution_count": 103,
   "metadata": {},
   "outputs": [
    {
     "name": "stdout",
     "output_type": "stream",
     "text": [
      "[3.89, 3.23, 3.69]\n"
     ]
    }
   ],
   "source": [
    "exclude_first = my_cpga[1:4] # taking element 1 to 3 inclusive\n",
    "print(exclude_first)"
   ]
  },
  {
   "cell_type": "code",
   "execution_count": 106,
   "metadata": {},
   "outputs": [
    {
     "data": {
      "text/plain": [
       "3.68"
      ]
     },
     "execution_count": 106,
     "metadata": {},
     "output_type": "execute_result"
    }
   ],
   "source": [
    "my_cpga[4]"
   ]
  },
  {
   "cell_type": "code",
   "execution_count": 107,
   "metadata": {},
   "outputs": [],
   "source": [
    "import numpy as np"
   ]
  },
  {
   "cell_type": "code",
   "execution_count": 112,
   "metadata": {},
   "outputs": [
    {
     "name": "stdout",
     "output_type": "stream",
     "text": [
      "[ 1  2  3  4  5  6  7  8  9 10 11 12 13 14 15 16 17 18 19 20 21 22 23 24\n",
      " 25 26 27 28 29 30]\n",
      "[14 10  1 12 20 30  2  8  5 26  7 19  9 16 23  3 27 21 11 13 15 17 25 18\n",
      "  6 24  4 22 29 28]\n",
      "[14 10  1 12 20 30  2  8  5 26]\n"
     ]
    }
   ],
   "source": [
    "# This code is to vote unbiasly in an election.\n",
    "candidates = np.arange(1,31,1) # generating a list of 1 to 30\n",
    "\n",
    "print(candidates)\n",
    "\n",
    "np.random.shuffle(candidates) # shuffle the list\n",
    "\n",
    "print(candidates)\n",
    "\n",
    "my_votes = candidates[:10] # take the first 10 elements from the list\n",
    "\n",
    "print(my_votes)"
   ]
  },
  {
   "cell_type": "code",
   "execution_count": 118,
   "metadata": {},
   "outputs": [
    {
     "name": "stdout",
     "output_type": "stream",
     "text": [
      "[ 3  4  7  9 10] [9.81 6.   3.   2.   1.  ]\n",
      "[0.003 0.004 0.007 0.009 0.01 ]\n",
      "[0.02943 0.024   0.021   0.018   0.01   ]\n"
     ]
    }
   ],
   "source": [
    "# applying the formula F=ma\n",
    "m = np.array([3,4,7,9,10]) # create a list for mass\n",
    "a = np.array([9.81,6,3,2,1]) # create a list for acceleration\n",
    "\n",
    "print(m,a)\n",
    "\n",
    "mass_in_kg = m/1000 # convert mass into kilogram\n",
    "\n",
    "print(mass_in_kg)\n",
    "\n",
    "force = mass_in_kg*a # calculate force\n",
    "print(force)"
   ]
  },
  {
   "cell_type": "code",
   "execution_count": 116,
   "metadata": {},
   "outputs": [
    {
     "name": "stdout",
     "output_type": "stream",
     "text": [
      "[0.003 0.004 0.007 0.009 0.01 ]\n",
      "[0.02943 0.024   0.021   0.018   0.01   ]\n"
     ]
    }
   ],
   "source": [
    "mass_in_kg = m/1000\n",
    "\n",
    "print(mass_in_kg)\n",
    "\n",
    "force = mass_in_kg*a\n",
    "print(force)"
   ]
  },
  {
   "cell_type": "code",
   "execution_count": 121,
   "metadata": {},
   "outputs": [
    {
     "name": "stdout",
     "output_type": "stream",
     "text": [
      "[9.81 6.   3.   2.   1.  ] [0.02943 0.024   0.021   0.018   0.01   ]\n"
     ]
    },
    {
     "data": {
      "image/png": "[encoded data removed]",
      "text/plain": [
       "<Figure size 640x480 with 1 Axes>"
      ]
     },
     "metadata": {},
     "output_type": "display_data"
    }
   ],
   "source": [
    "import matplotlib.pyplot as plt # import the plotting library\n",
    "\n",
    "x = a # assign x to be my acceleration \n",
    "y = force # assign y to be my force\n",
    "\n",
    "print(x,y)\n",
    "plt.scatter(x,y) # plot a scatter plot of x and y\n",
    "\n",
    "plt.title(\"Graph of Force vs acceleration\") # Give it a title, why not\n",
    "plt.xlabel(\"accleration (ms^-2)\") # x axis label\n",
    "plt.ylabel(\"May the force be with you\") # y axis label\n",
    "\n",
    "plt.show() # show off the graph"
   ]
  },
  {
   "cell_type": "code",
   "execution_count": 138,
   "metadata": {},
   "outputs": [
    {
     "data": {
      "image/png": "[encoded data removed]",
      "text/plain": [
       "<Figure size 640x480 with 1 Axes>"
      ]
     },
     "metadata": {},
     "output_type": "display_data"
    }
   ],
   "source": [
    "x = np.arange(0,600,1) # generate x list, range from 0 to 600, in degree\n",
    "# print(x)\n",
    "\n",
    "x_in_radian = x*np.pi/180 # convert degree to radian, for x\n",
    "# print(x_in_radian)\n",
    "\n",
    "y_1 = np.sin(x_in_radian) # get the y, by getting the sin of x\n",
    "y_2 = np.cos(x_in_radian) # get the second y, from the cosine\n",
    "y_3 = np.tan(x_in_radian)\n",
    "# print(y)\n",
    "plt.plot(x,y_1,label='sine') # plot the graph\n",
    "plt.plot(x,y_2,label='cosine')\n",
    "plt.plot(x,y_3,label='tangent')\n",
    "\n",
    "plt.title(\"trigo graph\")\n",
    "plt.xlabel(\"radian\")\n",
    "plt.ylabel(\"y\")\n",
    "plt.legend()\n",
    "plt.ylim(-2,2)\n",
    "plt.show()"
   ]
  },
  {
   "cell_type": "code",
   "execution_count": null,
   "metadata": {},
   "outputs": [],
   "source": []
  }
 ],
 "metadata": {
  "kernelspec": {
   "display_name": "Python 3",
   "language": "python",
   "name": "python3"
  },
  "language_info": {
   "codemirror_mode": {
    "name": "ipython",
    "version": 3
   },
   "file_extension": ".py",
   "mimetype": "text/x-python",
   "name": "python",
   "nbconvert_exporter": "python",
   "pygments_lexer": "ipython3",
   "version": "3.10.6"
  },
  "orig_nbformat": 4
 },
 "nbformat": 4,
 "nbformat_minor": 2
}
